{
 "cells": [
  {
   "cell_type": "code",
   "execution_count": 1,
   "id": "a9bcbe93",
   "metadata": {},
   "outputs": [],
   "source": [
    "###--------- Imports ----------###\n",
    "import pandas as pd"
   ]
  },
  {
   "cell_type": "code",
   "execution_count": 2,
   "id": "42156efc",
   "metadata": {},
   "outputs": [],
   "source": [
    "###--------- Data Input and Sanitization ----------###\n",
    "file_name = {'test':{'input':'test_input.txt',\n",
    "                     'output':'test_ANSWERS.txt'},\n",
    "             'sample':{'input':'consecutive_cuts_chapter_1_validation_input.txt',\n",
    "                      'output':'consecutive_cuts_chapter_1_validation_ANSWERS.txt'},\n",
    "             'final':{'input':'consecutive_cuts_chapter_1_input.txt',\n",
    "                      'output':'consecutive_cuts_chapter_1_ANSWERS.txt'}\n",
    "            }\n",
    "run = 'final'\n",
    "             \n",
    "input_df = pd.read_csv(file_name[run]['input'],names=['Value'])[1:].reset_index(drop=True)\n",
    "input_df['Value'] = input_df['Value'].apply(lambda x: x.split())#.apply(lambda x: [int(y) for y in x.split()])"
   ]
  },
  {
   "cell_type": "code",
   "execution_count": 4,
   "id": "badb51b2",
   "metadata": {},
   "outputs": [],
   "source": [
    "data_df = pd.DataFrame(columns=['Case','num_cards', 'num_cuts', 'start_order', 'end_order'])\n",
    "for x in range(0,len(input_df),3):\n",
    "    row = x//3\n",
    "    data_df.loc[row, 'Case'] = row + 1\n",
    "\n",
    "\n",
    "    vals = [int(y) for y in input_df['Value'][x]]\n",
    "    data_df.loc[row, 'num_cards'] = vals[0]\n",
    "    data_df.loc[row, 'num_cuts'] = vals[1]\n",
    "    \n",
    "    data_df.loc[row, 'start_order'] = [int(y) for y in input_df['Value'][x+1]]\n",
    "    data_df.loc[row, 'end_order'] = [int(y) for y in input_df['Value'][x+2]]\n",
    "\n",
    "data_df['start_order_2'] = data_df['start_order']*2"
   ]
  },
  {
   "cell_type": "code",
   "execution_count": 5,
   "id": "5bb1d0ca",
   "metadata": {},
   "outputs": [],
   "source": [
    "def run_tests(num_cards, num_cuts, start_order, end_order, start_order_2):\n",
    "    if start_order == end_order:\n",
    "        # if there's only one cut, it's not possible bc the cards are unique.\n",
    "        if num_cuts == 1:\n",
    "            return 'NO'\n",
    "        # if they're the same card order and 0 cuts, good to go! if there's more than 1 cut\n",
    "        # we're golden bc we can always make cuts to get back to where we need to be. so, yes.\n",
    "        else:\n",
    "            return 'YES'\n",
    "    #else they're not the same order, and we have to test some things.\n",
    "    else: \n",
    "        # if they're not the same card order.. and we have no.. cuts...??!?!?! no, lol.\n",
    "        if num_cuts == 0:\n",
    "            return 'NO'\n",
    "        else:\n",
    "            if (num_cards == 2) and (num_cuts % 2 == 0):\n",
    "                return 'NO'\n",
    "            # they're not the same card order. we have at least one cut.\n",
    "            # does the end order EXIST in the card order x 2?\n",
    "            end_st = ' '.join([str(i) for i in end_order])\n",
    "            start_2_st = ' '.join([str(i) for i in start_order_2])\n",
    "            \n",
    "            if end_st in start_2_st:\n",
    "                # if yes, then we should be able to figure out a way to get ourselves \n",
    "                # where we need to be.\n",
    "                return 'YES'\n",
    "            else:\n",
    "                return 'NO'"
   ]
  },
  {
   "cell_type": "code",
   "execution_count": null,
   "id": "ce3134d2",
   "metadata": {},
   "outputs": [],
   "source": [
    "with open(file_name[run]['output'], \"a\") as myfile:\n",
    "    for x in range(0,len(input_df),3):\n",
    "        case_num = x//3 + 1\n",
    "        num_cards, num_cuts = [int(y) for y in input_df['Value'][x]]\n",
    "        start_order = [int(y) for y in input_df['Value'][x+1]]\n",
    "        end_order = [int(y) for y in input_df['Value'][x+2]]\n",
    "        start_order_2 = start_order * 2\n",
    "        status = run_tests(num_cards, num_cuts, start_order, end_order, start_order_2)\n",
    "        #print(case_num, num_cards, num_cuts, start_order, end_order, start_order_2)\n",
    "        data_df.loc[case_num-1,'Ans'] = status\n",
    "        myfile.write(f'Case #{case_num}: {status}\\n')\n",
    "        #print("
   ]
  },
  {
   "cell_type": "code",
   "execution_count": null,
   "id": "5885ed1b",
   "metadata": {},
   "outputs": [],
   "source": [
    "data_df"
   ]
  },
  {
   "cell_type": "code",
   "execution_count": null,
   "id": "e345a1a4",
   "metadata": {},
   "outputs": [],
   "source": [
    "n = 5\n",
    "k = 3\n",
    "start = [1, 2, 3, 4, 5]\n",
    "end = [4, 5, 1, 2, 3 ]"
   ]
  },
  {
   "cell_type": "code",
   "execution_count": null,
   "id": "aabe8a1f",
   "metadata": {},
   "outputs": [],
   "source": [
    "[3, 1000000000]\n",
    "[1, 2, 3]\n",
    "[1, 2, 3]"
   ]
  },
  {
   "cell_type": "code",
   "execution_count": null,
   "id": "4cecc52b",
   "metadata": {},
   "outputs": [],
   "source": [
    "input_df"
   ]
  },
  {
   "cell_type": "code",
   "execution_count": null,
   "id": "d5cf39d4",
   "metadata": {},
   "outputs": [],
   "source": [
    "new_df = pd.DataFrame(columns=['Case','num_cards', 'num_cuts', 'start_order', 'end_order'])"
   ]
  },
  {
   "cell_type": "code",
   "execution_count": null,
   "id": "9a93bd75",
   "metadata": {},
   "outputs": [],
   "source": [
    "for x in range(0,len(input_df),3):\n",
    "    row = x//3\n",
    "    new_df.loc[row, 'Case'] = row + 1\n",
    "\n",
    "\n",
    "    vals = [int(y) for y in input_df['Value'][x]]\n",
    "    new_df.loc[row, 'num_cards'] = vals[0]\n",
    "    new_df.loc[row, 'num_cuts'] = vals[1]\n",
    "    \n",
    "    new_df.loc[row, 'start_order'] = [int(y) for y in input_df['Value'][x+1]]\n",
    "    new_df.loc[row, 'end_order'] = [int(y) for y in input_df['Value'][x+2]]\n",
    "\n",
    "#         ans = ''\n",
    "#     case_num = \n",
    "#     num_cards, num_cuts = [int(y) for y in input_df['Value'][x]]\n",
    "#     start_order = input_df['Value'][x+1]\n",
    "#     start_order_big = ' '.join((num_cuts+1) * start_order)\n",
    "#     end_order = ' '.join(input_df['Value'][x+2])\n",
    "#     if end_order in start_order_big:\n",
    "#         ans = 'YES'\n",
    "#     else:\n",
    "#         ans = 'NO'\n",
    "#     print(num_cards, num_cuts, ans, start_order, \",\", end_order)"
   ]
  },
  {
   "cell_type": "code",
   "execution_count": null,
   "id": "d1374273",
   "metadata": {},
   "outputs": [],
   "source": []
  },
  {
   "cell_type": "code",
   "execution_count": null,
   "id": "4846e943",
   "metadata": {},
   "outputs": [],
   "source": [
    "n = 5\n",
    "k = 1\n",
    "end = [2, 4, 3, 5, 1]\n",
    "stack = [5, 1, 2, 4, 3, 5, 1, 2, 4, 3]"
   ]
  },
  {
   "cell_type": "code",
   "execution_count": null,
   "id": "e8fcf09c",
   "metadata": {},
   "outputs": [],
   "source": [
    "def test_func(n, k, end, stack):\n",
    "    print(\", \".join([str(x) for x in [n, k, end, stack]]))\n",
    "    for x in range(0,n):\n",
    "        test = stack[x:x+n]\n",
    "        for i in range(0,k):\n",
    "            if test == end:\n",
    "                return(x, test, 'YES')"
   ]
  },
  {
   "cell_type": "code",
   "execution_count": null,
   "id": "ea92e06b",
   "metadata": {},
   "outputs": [],
   "source": [
    "new_df.loc[0,'end_order']"
   ]
  },
  {
   "cell_type": "code",
   "execution_count": null,
   "id": "94ecd639",
   "metadata": {},
   "outputs": [],
   "source": [
    "print(test_func(new_df.loc[3,'num_cards'],\n",
    "                1,\n",
    "                new_df.loc[3,'end_order'],\n",
    "                new_df.loc[3,'start_order_2']))"
   ]
  },
  {
   "cell_type": "code",
   "execution_count": null,
   "id": "c31e8d22",
   "metadata": {},
   "outputs": [],
   "source": [
    "new_df"
   ]
  },
  {
   "cell_type": "code",
   "execution_count": null,
   "id": "05640e67",
   "metadata": {},
   "outputs": [],
   "source": []
  },
  {
   "cell_type": "code",
   "execution_count": null,
   "id": "c44672bc",
   "metadata": {},
   "outputs": [],
   "source": [
    "new_df.loc[0,'start_order_2']"
   ]
  },
  {
   "cell_type": "code",
   "execution_count": null,
   "id": "92d735c1",
   "metadata": {},
   "outputs": [],
   "source": [
    "with open(f\"{file_name}_ANSWERS.txt\", \"a\") as myfile:\n",
    "    for x in range(0,len(input_df),3):\n",
    "        ans = ''\n",
    "        case_num = x//3 + 1\n",
    "        num_cards, num_cuts = [int(y) for y in input_df['Value'][x]]\n",
    "        start_order = ' '.join((num_cuts+1) * input_df['Value'][x+1])\n",
    "        end_order = ' '.join(input_df['Value'][x+2])\n",
    "        if end_order in start_order:\n",
    "            ans = 'YES'\n",
    "        else:\n",
    "            ans = 'NO'\n",
    "        myfile.write(f'Case #{case_num}: {ans}\\n')"
   ]
  },
  {
   "cell_type": "code",
   "execution_count": null,
   "id": "db3a5764",
   "metadata": {},
   "outputs": [],
   "source": [
    "### Notes\n",
    "So, this works, except there are certain test cases where it won't run:\n",
    "\n",
    "[500000, 1000000000]\n",
    "\n",
    "[3, 1000000000]\n",
    "\n",
    "The problem with it not running fast enough is specifically that *I only have 6 minutes to turn in the solution'.\n",
    "\n",
    "So, let's do some testing.\n",
    "\n",
    "**WHAT ABOUT THE SMALLEST MULTIPLE OF N-1 THAT DIVIDES INTO THE NUMBER.**\n",
    "\n",
    "Okay, hear me out. Say we have [1, 2, 3]. We know that in 2 moves, we can get all possible iterations.\n",
    "1. 1 and 1 [2, 3, 1], [3, 1, 2]\n",
    "2. 1 and 2 [2, 3, 1], [1, 2, 3]\n",
    "3. 2 and 1 [3, 1, 2], [1, 2, 3]\n",
    "4. 2 and 2 [3, 1, 2], [2, 1, 3]\n",
    "\n",
    "So, we need to find the *smallest number of cuts needed* in order to access this.\n",
    "\n",
    "Let's go down this route.\n",
    "\n",
    "If we figure out that we can get the right config at n=2 (lets say here), then we should be able to get there at n=4 also.\n",
    "\n",
    "THE QUESTION IS DOES THAT MEAN WE *CANNOT* GET IT AT 3?\n",
    "\n",
    "new example, try to disprove it."
   ]
  }
 ],
 "metadata": {
  "kernelspec": {
   "display_name": "Python 3 (ipykernel)",
   "language": "python",
   "name": "python3"
  },
  "language_info": {
   "codemirror_mode": {
    "name": "ipython",
    "version": 3
   },
   "file_extension": ".py",
   "mimetype": "text/x-python",
   "name": "python",
   "nbconvert_exporter": "python",
   "pygments_lexer": "ipython3",
   "version": "3.8.5"
  }
 },
 "nbformat": 4,
 "nbformat_minor": 5
}
