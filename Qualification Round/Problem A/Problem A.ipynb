{
 "cells": [
  {
   "cell_type": "code",
   "execution_count": 18,
   "id": "7085127e",
   "metadata": {},
   "outputs": [],
   "source": [
    "###--------- Imports ----------###\n",
    "import pandas as pd\n",
    "from collections import Counter"
   ]
  },
  {
   "cell_type": "code",
   "execution_count": 19,
   "id": "141d636c",
   "metadata": {
    "scrolled": true
   },
   "outputs": [],
   "source": [
    "###--------- Data Input and Sanitization ----------###\n",
    "input_df = pd.read_csv(\"second_hands_input.txt\", header=None, names=[\"values\"])\n",
    "input_df['values'] = input_df['values'].apply(lambda row: [int(x) for x in row.split()])\n",
    "\n",
    "# Grab number of examples\n",
    "num_input = input_df['values'][0][0]\n",
    "input_df = input_df[1:].reset_index(drop=True)"
   ]
  },
  {
   "cell_type": "code",
   "execution_count": 20,
   "id": "d5160daa",
   "metadata": {},
   "outputs": [],
   "source": [
    "def run_tests(num_parts, max_per_case, num_styles):\n",
    "    # Test 1: Are any s values greater than 2?\n",
    "    if max(Counter(num_styles).values()) > 2:\n",
    "        return \"NO\"\n",
    "    # Test 2: Is the total number divided in half still bigger than the max?\n",
    "    if num_parts / 2 > max_per_case:\n",
    "        return \"NO\"\n",
    "    \n",
    "    # Then,\n",
    "    return \"YES\""
   ]
  },
  {
   "cell_type": "code",
   "execution_count": 21,
   "id": "54f73128",
   "metadata": {},
   "outputs": [],
   "source": [
    "with open(\"Problem A - ANSWERS.txt\", \"a\") as myfile:\n",
    "    for x in range(0,len(input_df),2):\n",
    "        num_parts, max_per_case = input_df['values'][x]\n",
    "        num_styles = input_df['values'][x+1]\n",
    "\n",
    "        status = run_tests(num_parts, max_per_case, num_styles)\n",
    "        myfile.write(f\"Case #{x//2 + 1}: {status}\\n\")"
   ]
  }
 ],
 "metadata": {
  "kernelspec": {
   "display_name": "Python 3 (ipykernel)",
   "language": "python",
   "name": "python3"
  },
  "language_info": {
   "codemirror_mode": {
    "name": "ipython",
    "version": 3
   },
   "file_extension": ".py",
   "mimetype": "text/x-python",
   "name": "python",
   "nbconvert_exporter": "python",
   "pygments_lexer": "ipython3",
   "version": "3.8.5"
  }
 },
 "nbformat": 4,
 "nbformat_minor": 5
}
